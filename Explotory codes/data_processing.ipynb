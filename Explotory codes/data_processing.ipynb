{
 "cells": [
  {
   "cell_type": "code",
   "execution_count": 2,
   "metadata": {},
   "outputs": [],
   "source": [
    "%load_ext autoreload\n",
    "%autoreload 2\n",
    "\n",
    "import logging\n",
    "import os\n",
    "import time\n",
    "\n",
    "import h5py\n",
    "import librosa\n",
    "import numpy as np\n",
    "\n",
    "from utilities.utils import (create_folder, create_logging, read_metadata, pad_or_truncate)"
   ]
  },
  {
   "cell_type": "code",
   "execution_count": 3,
   "metadata": {},
   "outputs": [],
   "source": [
    "DATA_FOLDER = \"C:/Users/dhu/Downloads/birdsong-recognition\"\n",
    "\n",
    "TRAIN_METADATA_PATH = os.path.join(\"train_new.csv\")\n",
    "WAV_PATH = os.path.join(DATA_FOLDER, \"dataset_wav/\")\n",
    "HDF5_PATH = os.path.join(DATA_FOLDER, \"train_new.hdf5\")\n",
    "\n",
    "n_classes = 1\n",
    "n_samples_per_class = 10\n",
    "endpoint = n_classes * n_samples_per_class\n",
    "\n",
    "meta_dict = read_metadata(TRAIN_METADATA_PATH)"
   ]
  },
  {
   "cell_type": "code",
   "execution_count": 20,
   "metadata": {},
   "outputs": [
    {
     "name": "stderr",
     "output_type": "stream",
     "text": [
      "root        : INFO     Write logs to _logs/pack_waveforms_to_hdf5/train_new\n",
      "root        : INFO     Write logs to _logs/pack_waveforms_to_hdf5/train_new\n",
      "root        : INFO     0 C:/Users/dhu/Downloads/birdsong-recognition\\dataset_wav/aldfly\\XC134874.wav\n",
      "root        : INFO     0 C:/Users/dhu/Downloads/birdsong-recognition\\dataset_wav/aldfly\\XC134874.wav\n"
     ]
    },
    {
     "name": "stdout",
     "output_type": "stream",
     "text": [
      "The range of samples: 0 -> 10\n"
     ]
    },
    {
     "name": "stderr",
     "output_type": "stream",
     "text": [
      "root        : INFO     1 C:/Users/dhu/Downloads/birdsong-recognition\\dataset_wav/aldfly\\XC135454.wav\n",
      "root        : INFO     1 C:/Users/dhu/Downloads/birdsong-recognition\\dataset_wav/aldfly\\XC135454.wav\n",
      "root        : INFO     2 C:/Users/dhu/Downloads/birdsong-recognition\\dataset_wav/aldfly\\XC135455.wav\n",
      "root        : INFO     2 C:/Users/dhu/Downloads/birdsong-recognition\\dataset_wav/aldfly\\XC135455.wav\n",
      "root        : INFO     3 C:/Users/dhu/Downloads/birdsong-recognition\\dataset_wav/aldfly\\XC135456.wav\n",
      "root        : INFO     3 C:/Users/dhu/Downloads/birdsong-recognition\\dataset_wav/aldfly\\XC135456.wav\n",
      "root        : INFO     4 C:/Users/dhu/Downloads/birdsong-recognition\\dataset_wav/aldfly\\XC135457.wav\n",
      "root        : INFO     4 C:/Users/dhu/Downloads/birdsong-recognition\\dataset_wav/aldfly\\XC135457.wav\n",
      "root        : INFO     5 C:/Users/dhu/Downloads/birdsong-recognition\\dataset_wav/aldfly\\XC135459.wav\n",
      "root        : INFO     5 C:/Users/dhu/Downloads/birdsong-recognition\\dataset_wav/aldfly\\XC135459.wav\n",
      "root        : INFO     6 C:/Users/dhu/Downloads/birdsong-recognition\\dataset_wav/aldfly\\XC135460.wav\n",
      "root        : INFO     6 C:/Users/dhu/Downloads/birdsong-recognition\\dataset_wav/aldfly\\XC135460.wav\n",
      "root        : INFO     7 C:/Users/dhu/Downloads/birdsong-recognition\\dataset_wav/aldfly\\XC135883.wav\n",
      "root        : INFO     7 C:/Users/dhu/Downloads/birdsong-recognition\\dataset_wav/aldfly\\XC135883.wav\n",
      "root        : INFO     8 C:/Users/dhu/Downloads/birdsong-recognition\\dataset_wav/aldfly\\XC137570.wav\n",
      "root        : INFO     8 C:/Users/dhu/Downloads/birdsong-recognition\\dataset_wav/aldfly\\XC137570.wav\n",
      "root        : INFO     9 C:/Users/dhu/Downloads/birdsong-recognition\\dataset_wav/aldfly\\XC138639.wav\n",
      "root        : INFO     9 C:/Users/dhu/Downloads/birdsong-recognition\\dataset_wav/aldfly\\XC138639.wav\n",
      "root        : INFO     Write to C:/Users/dhu/Downloads/birdsong-recognition\\train_new.hdf5\n",
      "root        : INFO     Write to C:/Users/dhu/Downloads/birdsong-recognition\\train_new.hdf5\n",
      "root        : INFO     Pack hdf5 time: 10.694\n",
      "root        : INFO     Pack hdf5 time: 10.694\n"
     ]
    },
    {
     "name": "stdout",
     "output_type": "stream",
     "text": [
      "[<StreamHandler stderr (INFO)>]\n"
     ]
    }
   ],
   "source": [
    "def pack_waveforms_to_hdf5(audios_dir, csv_path, waveforms_hdf5_path, sample_rate, clip_length, starting_point=0, end_point=None):\n",
    "    \"\"\"Pack waveform and target of several audio clips to a single hdf5 file. \n",
    "    This can speed up loading and training.\n",
    "\n",
    "    Parameters:\n",
    "        audios_dir - Folder contains all .wav files.\n",
    "        csv_path - The path to the metadata file.\n",
    "        waveforms_hdf5_path - The path to the hdf5 filename to be stored.\n",
    "        sample_rate - Sample rate when reading the waveform.\n",
    "        clip_length - The maximum duration will be used for an audio clip.\n",
    "        starting_point - The start index of reading the metadata.\n",
    "        end_point - The end index of reading the metadata. If not set, all will be read.\n",
    "    \"\"\"\n",
    "    logs_dir = '_logs/pack_waveforms_to_hdf5/{}'.format(os.path.basename(csv_path).split(\".\")[0])\n",
    "\n",
    "    create_folder(logs_dir)\n",
    "    create_logging(logs_dir, filemode='w')\n",
    "    create_folder(os.path.dirname(waveforms_hdf5_path))\n",
    "\n",
    "    logging.info('Write logs to {}'.format(logs_dir))\n",
    "    \n",
    "    meta_dict = read_metadata(csv_path)\n",
    "\n",
    "    audios_num_total = len(meta_dict['audio_name'])\n",
    "    clip_samples = clip_length * sample_rate\n",
    "\n",
    "    # Pack waveform to hdf5\n",
    "    total_time = time.time()\n",
    "\n",
    "    with h5py.File(waveforms_hdf5_path, 'w') as hf:\n",
    "        if not end_point:\n",
    "            end_point = audios_num_total\n",
    "        print(\"The range of samples: {} -> {}\".format(starting_point, end_point))\n",
    "        audios_num = end_point - starting_point\n",
    "\n",
    "        if \"waveform\" not in hf.keys():\n",
    "            hf.create_dataset('audio_name', shape=((audios_num_total,)), dtype='S20')\n",
    "            hf.create_dataset('waveform', shape=((audios_num_total, clip_samples)), dtype=np.float32)\n",
    "            hf.attrs.create('sample_rate', data=sample_rate, dtype=np.int32)\n",
    "\n",
    "            hf['target'] = meta_dict['target'][starting_point:end_point]\n",
    "            \n",
    "        all_classes = meta_dict[\"bird_codes\"][meta_dict['target'][starting_point:end_point]]\n",
    "\n",
    "        # Pack waveform & target of several audio clips to a single hdf5 file\n",
    "        for n in range(starting_point, end_point):\n",
    "            audio_path = os.path.join(audios_dir, all_classes[n], meta_dict['audio_name'][n])\n",
    "\n",
    "            if os.path.isfile(audio_path):\n",
    "                logging.info('{} {}'.format(n, audio_path))\n",
    "                (audio, _) = librosa.core.load(audio_path, sr=sample_rate, mono=True)\n",
    "                audio = pad_or_truncate(audio, clip_samples)\n",
    "\n",
    "                hf['audio_name'][n] = meta_dict['audio_name'][n].encode()\n",
    "                hf['waveform'][n] = audio\n",
    "            else:\n",
    "                logging.info('{} File does not exist! {}'.format(n, audio_path))\n",
    "\n",
    "    logging.info('Write to {}'.format(waveforms_hdf5_path))\n",
    "    logging.info('Pack hdf5 time: {:.3f}'.format(time.time() - total_time))\n",
    "\n",
    "    # # clean the file logger\n",
    "    # logger = logging.getLogger('')\n",
    "    # for h in logger.handlers:\n",
    "    #     logger.removeHandler(h)\n",
    "    # print(logger.handlers)\n",
    "\n",
    "pack_waveforms_to_hdf5(WAV_PATH, TRAIN_METADATA_PATH, HDF5_PATH, sample_rate=32000, clip_length=100, end_point=endpoint)"
   ]
  },
  {
   "cell_type": "code",
   "execution_count": 5,
   "metadata": {},
   "outputs": [
    {
     "name": "stdout",
     "output_type": "stream",
     "text": [
      "The hdf5 file C:/Users/dhu/Downloads/birdsong-recognition\\train_new.hdf5 exists.\n",
      "Shape (13200, 3200000)\n"
     ]
    },
    {
     "data": {
      "image/png": "[encoded data removed]",
      "text/plain": [
       "<Figure size 432x288 with 1 Axes>"
      ]
     },
     "metadata": {
      "needs_background": "light"
     },
     "output_type": "display_data"
    }
   ],
   "source": [
    "import matplotlib.pyplot as plt\n",
    "\n",
    "print(\"The hdf5 file {} {}.\".format(HDF5_PATH, \"exists\" if os.path.exists(HDF5_PATH) else \"does not exist\"))\n",
    "\n",
    "with h5py.File(HDF5_PATH, 'r') as hf:\n",
    "    print(\"Shape {}\".format(hf['waveform'].shape))\n",
    "    sample_wav = hf['waveform'][100]\n",
    "\n",
    "    plt.plot(sample_wav)\n"
   ]
  }
 ],
 "metadata": {
  "interpreter": {
   "hash": "f3674f1c849a1111934e3798f94d4d6fcf8f730dea15d0352869d53318e3511a"
  },
  "kernelspec": {
   "display_name": "Python 3.9.7 ('base')",
   "language": "python",
   "name": "python3"
  },
  "language_info": {
   "codemirror_mode": {
    "name": "ipython",
    "version": 3
   },
   "file_extension": ".py",
   "mimetype": "text/x-python",
   "name": "python",
   "nbconvert_exporter": "python",
   "pygments_lexer": "ipython3",
   "version": "3.9.7"
  },
  "orig_nbformat": 4
 },
 "nbformat": 4,
 "nbformat_minor": 2
}